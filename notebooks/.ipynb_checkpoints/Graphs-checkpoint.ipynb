{
 "cells": [
  {
   "cell_type": "code",
   "execution_count": 1,
   "id": "ac283ec6-8ab2-4609-9b29-bb66bb832aa1",
   "metadata": {},
   "outputs": [
    {
     "name": "stderr",
     "output_type": "stream",
     "text": [
      "/opt/miniconda3/envs/kpoints/lib/python3.11/site-packages/torch_geometric/typing.py:124: UserWarning: An issue occurred while importing 'torch-sparse'. Disabling its usage. Stacktrace: dlopen(/opt/miniconda3/envs/kpoints/lib/python3.11/site-packages/torch_sparse/_version_cpu.so, 0x0006): symbol not found in flat namespace '__ZN3c1017RegisterOperatorsD1Ev'\n",
      "  warnings.warn(f\"An issue occurred while importing 'torch-sparse'. \"\n"
     ]
    }
   ],
   "source": [
    "import numpy as np\n",
    "import pandas as pd\n",
    "from pymatgen.core.structure import Structure\n",
    "from pymatgen.core.composition import Composition\n",
    "from matminer.featurizers.composition import ElementProperty, Stoichiometry \n",
    "from matminer.featurizers.composition import ValenceOrbital, IonProperty, AtomicOrbitals\n",
    "from matminer.featurizers.base import MultipleFeaturizer\n",
    "\n",
    "from typing import Dict, Tuple\n",
    "\n",
    "import torch\n",
    "from torch_geometric.data import Data\n",
    "import json\n",
    "import warnings"
   ]
  },
  {
   "cell_type": "code",
   "execution_count": 2,
   "id": "8cbfd164-f95b-45e1-a0b4-5f303ff30cdc",
   "metadata": {},
   "outputs": [],
   "source": [
    "def load_atom_features(atom_init_path: str) -> Dict:\n",
    "    \"\"\"Load atomic embedding file (traditionally keys are atomic numbers)\"\"\"\n",
    "    with open(atom_init_path, 'r') as f:\n",
    "        data = json.load(f)\n",
    "    return data"
   ]
  },
  {
   "cell_type": "code",
   "execution_count": 4,
   "id": "c6efc519-edfe-4a20-b7ea-2a223ac2bdb6",
   "metadata": {},
   "outputs": [],
   "source": [
    "def build_pyg_cgcnn_graph_from_structure(structure: Structure, \n",
    "                                         atom_features_dict: Dict, \n",
    "                                         radius: float=10.0, \n",
    "                                         max_neighbors: int=12) -> Data:\n",
    "    \"\"\"Converts a pymatgen Structure to a PyTorch Geometric Data object with atomic features and edge distances.\"\"\"\n",
    "    num_atoms = len(structure)\n",
    "    atomic_features = []\n",
    "    \n",
    "    # Node features\n",
    "    for site in structure:\n",
    "        number = site.specie.number\n",
    "        feature = atom_features_dict.get(str(number))\n",
    "        if feature is None:\n",
    "            raise ValueError(f\"Atomic feature not found for element: {number}\")\n",
    "        atomic_features.append(feature)\n",
    "\n",
    "    x = torch.tensor(atomic_features, dtype=torch.float32)\n",
    "    \n",
    "    # Edge features: collect neighbors\n",
    "    edge_index = []\n",
    "    edge_attr = []\n",
    "    \n",
    "    all_neighbors = structure.get_all_neighbors(radius, include_index=True)\n",
    "    disconnected_atoms=[]\n",
    "    for i, neighbors in enumerate(all_neighbors):\n",
    "        neighbors = sorted(neighbors, key=lambda x: x[1])[:max_neighbors]  # take closest max_neighbors\n",
    "        if len(neighbors) == 0:\n",
    "            disconnected_atoms.append(i)\n",
    "        for neighbor in neighbors:\n",
    "            j = neighbor[2]  # neighbor atom index\n",
    "            dist = neighbor[1]\n",
    "            edge_index.append([i, j])\n",
    "            edge_attr.append([dist])\n",
    "    \n",
    "    if disconnected_atoms:\n",
    "        warnings.warn(\n",
    "            f\"{len(disconnected_atoms)} atoms had no neighbors within radius {radius}. \"\n",
    "            f\"Disconnected atom indices: {disconnected_atoms}\"\n",
    "        )\n",
    "\n",
    "    # Convert to tensors\n",
    "    if edge_index:\n",
    "        edge_index = torch.tensor(edge_index, dtype=torch.long).t().contiguous()\n",
    "        edge_attr = torch.tensor(edge_attr, dtype=torch.float32)\n",
    "    else:\n",
    "        edge_index = torch.empty((2, 0), dtype=torch.long)\n",
    "        edge_attr = torch.empty((0, 1), dtype=torch.float32)\n",
    "    \n",
    "    # Create PyG Data object\n",
    "    data = Data(x=x, edge_index=edge_index, edge_attr=edge_attr)\n",
    "    return data"
   ]
  },
  {
   "cell_type": "code",
   "execution_count": null,
   "id": "54b0fbd8-643c-4cf9-8e7d-7bb6056556f8",
   "metadata": {},
   "outputs": [],
   "source": []
  },
  {
   "cell_type": "code",
   "execution_count": 34,
   "id": "351f3958-a7cc-43ec-9789-ba66db6cd90e",
   "metadata": {},
   "outputs": [],
   "source": [
    "struct=Structure.from_file('/Users/elena.patyukova/Documents/cif_files_ICSD/cifs_binary_Mg/YourCustomFileName_CollCode258540.cif')"
   ]
  },
  {
   "cell_type": "code",
   "execution_count": 35,
   "id": "3afc7454-82e9-4c0e-ba5f-6faac85a8372",
   "metadata": {},
   "outputs": [],
   "source": [
    "feat_dict=load_atom_features('/Users/elena.patyukova/Documents/github/k-points/src/CGCNN+ALIGNN_PyG/embeddings/atom_init_original.json')"
   ]
  },
  {
   "cell_type": "code",
   "execution_count": 36,
   "id": "a1c7e552-4e59-4e1d-94ca-8b853fe30391",
   "metadata": {},
   "outputs": [],
   "source": [
    "data=build_pyg_cgcnn_graph_from_structure(struct,feat_dict)"
   ]
  },
  {
   "cell_type": "code",
   "execution_count": 37,
   "id": "fffb1f17-3a5e-4db8-b1a1-655014df8506",
   "metadata": {},
   "outputs": [
    {
     "data": {
      "text/plain": [
       "Data(x=[12, 92], edge_index=[2, 144], edge_attr=[144, 1])"
      ]
     },
     "execution_count": 37,
     "metadata": {},
     "output_type": "execute_result"
    }
   ],
   "source": [
    "data"
   ]
  },
  {
   "cell_type": "code",
   "execution_count": null,
   "id": "20ca13fa-ffeb-4960-bdf2-8efdf649327a",
   "metadata": {},
   "outputs": [],
   "source": []
  },
  {
   "cell_type": "code",
   "execution_count": 38,
   "id": "0767e676-3704-4026-ae88-c0d951db34c8",
   "metadata": {},
   "outputs": [],
   "source": [
    "from pymatgen.analysis.local_env import VoronoiNN"
   ]
  },
  {
   "cell_type": "code",
   "execution_count": null,
   "id": "5c27a9e5-d49c-4cbb-b24e-b214b4e11df5",
   "metadata": {},
   "outputs": [],
   "source": []
  },
  {
   "cell_type": "code",
   "execution_count": null,
   "id": "65ebeeae-345e-4f7a-b7a1-e0d53538ce09",
   "metadata": {},
   "outputs": [],
   "source": []
  },
  {
   "cell_type": "code",
   "execution_count": null,
   "id": "f11f60dd-0f64-4556-ae33-1db9b31fd0a4",
   "metadata": {},
   "outputs": [],
   "source": []
  },
  {
   "cell_type": "code",
   "execution_count": 39,
   "id": "757ec13c-ddd5-4214-a690-003b68f19043",
   "metadata": {},
   "outputs": [],
   "source": [
    "from pymatgen.analysis.local_env import CrystalNN\n",
    "cnn = CrystalNN()\n",
    "# neighbors = cnn.get_nn_info(structure, index=0)  # Gives bonded atoms only\n"
   ]
  },
  {
   "cell_type": "code",
   "execution_count": 40,
   "id": "953ce5e9-f616-4dd0-ae49-a038c039fb10",
   "metadata": {},
   "outputs": [
    {
     "data": {
      "text/plain": [
       "12"
      ]
     },
     "execution_count": 40,
     "metadata": {},
     "output_type": "execute_result"
    }
   ],
   "source": [
    "len(struct)"
   ]
  },
  {
   "cell_type": "code",
   "execution_count": 42,
   "id": "0efb4ffa-53a2-4c4c-bc7b-879fe48d543a",
   "metadata": {},
   "outputs": [
    {
     "data": {
      "text/plain": [
       "Structure Summary\n",
       "Lattice\n",
       "    abc : 6.76 6.76 6.76\n",
       " angles : 90.0 90.0 90.0\n",
       " volume : 308.91577599999994\n",
       "      A : np.float64(6.76) np.float64(0.0) np.float64(4.1393061811180535e-16)\n",
       "      B : np.float64(-4.1393061811180535e-16) np.float64(6.76) np.float64(4.1393061811180535e-16)\n",
       "      C : np.float64(0.0) np.float64(0.0) np.float64(6.76)\n",
       "    pbc : True True True\n",
       "PeriodicSite: Mg1 (Mg0+) (1.69, 1.69, 5.07) [0.25, 0.25, 0.75]\n",
       "PeriodicSite: Mg1 (Mg0+) (1.69, 5.07, 1.69) [0.25, 0.75, 0.25]\n",
       "PeriodicSite: Mg1 (Mg0+) (5.07, 1.69, 1.69) [0.75, 0.25, 0.25]\n",
       "PeriodicSite: Mg1 (Mg0+) (5.07, 5.07, 5.07) [0.75, 0.75, 0.75]\n",
       "PeriodicSite: Mg1 (Mg0+) (5.07, 5.07, 1.69) [0.75, 0.75, 0.25]\n",
       "PeriodicSite: Mg1 (Mg0+) (5.07, 1.69, 5.07) [0.75, 0.25, 0.75]\n",
       "PeriodicSite: Mg1 (Mg0+) (1.69, 5.07, 5.07) [0.25, 0.75, 0.75]\n",
       "PeriodicSite: Mg1 (Mg0+) (1.69, 1.69, 1.69) [0.25, 0.25, 0.25]\n",
       "PeriodicSite: Sn1 (Sn0+) (0.0, 0.0, 0.0) [0.0, 0.0, 0.0]\n",
       "PeriodicSite: Sn1 (Sn0+) (-2.07e-16, 3.38, 3.38) [0.0, 0.5, 0.5]\n",
       "PeriodicSite: Sn1 (Sn0+) (3.38, 0.0, 3.38) [0.5, 0.0, 0.5]\n",
       "PeriodicSite: Sn1 (Sn0+) (3.38, 3.38, 4.139e-16) [0.5, 0.5, 0.0]"
      ]
     },
     "execution_count": 42,
     "metadata": {},
     "output_type": "execute_result"
    }
   ],
   "source": [
    "struct"
   ]
  },
  {
   "cell_type": "code",
   "execution_count": 43,
   "id": "951a66f6-bae2-4846-84be-cad95ff2ed7f",
   "metadata": {},
   "outputs": [
    {
     "data": {
      "text/plain": [
       "4"
      ]
     },
     "execution_count": 43,
     "metadata": {},
     "output_type": "execute_result"
    }
   ],
   "source": [
    "neighbors = cnn.get_nn_info(struct,2)\n",
    "len(neighbors)"
   ]
  },
  {
   "cell_type": "code",
   "execution_count": 44,
   "id": "172b859b-edd2-4d8e-908f-f72230993e6c",
   "metadata": {},
   "outputs": [
    {
     "data": {
      "text/plain": [
       "{'site': PeriodicNeighbor: Sn1 (Sn0+) (3.38, 0.0, 3.38) [0.5, 0.0, 0.5],\n",
       " 'image': array([0., 0., 0.]),\n",
       " 'weight': 1,\n",
       " 'site_index': np.int64(10)}"
      ]
     },
     "execution_count": 44,
     "metadata": {},
     "output_type": "execute_result"
    }
   ],
   "source": [
    "neighbors[0]"
   ]
  },
  {
   "cell_type": "code",
   "execution_count": 100,
   "id": "c40ed68c-2a9d-4157-baf6-46305c626314",
   "metadata": {},
   "outputs": [],
   "source": [
    "from pymatgen.analysis.local_env import CrystalNN, IsayevNN\n",
    "from pymatgen.core import Structure\n",
    "import numpy as np\n",
    "\n",
    "cnn = CrystalNN()\n",
    "cnn1 = IsayevNN()\n",
    "structure = Structure.from_file(\"/Users/elena.patyukova/Documents/cif_files_ICSD/cifs_binary_Mg/YourCustomFileName_CollCode601198.cif\")  # or POSCAR, etc.\n",
    "\n",
    "edge_index = []\n",
    "edge_attr = []\n",
    "\n",
    "for i in range(len(structure)):\n",
    "    neighbors = cnn.get_nn_info(structure, i)\n",
    "    neighbors1 = cnn1.get_nn_info(structure, i)\n",
    "    for neighbor in neighbors:\n",
    "        j = neighbor[\"site_index\"]\n",
    "        dist = structure.get_distance(i, j)\n",
    "\n",
    "        # Record edge i → j\n",
    "        edge_index.append((i, j))\n",
    "        edge_attr.append([dist])\n"
   ]
  },
  {
   "cell_type": "code",
   "execution_count": 102,
   "id": "4740c9c3-9b79-4d1b-b9d8-4aa6e293da2c",
   "metadata": {},
   "outputs": [],
   "source": [
    "cnn1 = IsayevNN()"
   ]
  },
  {
   "cell_type": "code",
   "execution_count": 128,
   "id": "030b70d7-3b2d-486f-861a-902438dbc541",
   "metadata": {},
   "outputs": [
    {
     "data": {
      "text/plain": [
       "(8, 4)"
      ]
     },
     "execution_count": 128,
     "metadata": {},
     "output_type": "execute_result"
    }
   ],
   "source": [
    "i=10\n",
    "neighbors = cnn.get_nn_info(structure, i)\n",
    "neighbors1 = cnn1.get_nn_info(structure, i)\n",
    "len(neighbors),len(neighbors1)"
   ]
  },
  {
   "cell_type": "code",
   "execution_count": 131,
   "id": "8560443c-3e58-4e9d-b05d-53674c4b53b2",
   "metadata": {},
   "outputs": [
    {
     "data": {
      "text/plain": [
       "[{'site': PeriodicNeighbor: Gd1 (Gd0+) (7.324, 3.662, 3.662) [1.0, 0.5, 0.5],\n",
       "  'image': array([1., 0., 0.]),\n",
       "  'weight': 1,\n",
       "  'site_index': np.int64(1)},\n",
       " {'site': PeriodicNeighbor: Gd1 (Gd0+) (7.324, 0.0, 4.485e-16) [1.0, 0.0, 0.0],\n",
       "  'image': array([1., 0., 0.]),\n",
       "  'weight': 1,\n",
       "  'site_index': np.int64(0)},\n",
       " {'site': PeriodicNeighbor: Gd1 (Gd0+) (3.662, 3.662, 4.485e-16) [0.5, 0.5, 0.0],\n",
       "  'image': array([0., 0., 0.]),\n",
       "  'weight': 1,\n",
       "  'site_index': np.int64(3)},\n",
       " {'site': PeriodicNeighbor: Gd1 (Gd0+) (3.662, 0.0, 3.662) [0.5, 0.0, 0.5],\n",
       "  'image': array([0., 0., 0.]),\n",
       "  'weight': 1,\n",
       "  'site_index': np.int64(2)},\n",
       " {'site': PeriodicNeighbor: Mg1 (Mg0+) (7.324, 3.662, 6.727e-16) [1.0, 0.5, 0.0],\n",
       "  'image': array([1., 0., 0.]),\n",
       "  'weight': 1,\n",
       "  'site_index': np.int64(6)},\n",
       " {'site': PeriodicNeighbor: Mg1 (Mg0+) (3.662, 0.0, 2.242e-16) [0.5, 0.0, 0.0],\n",
       "  'image': array([0., 0., 0.]),\n",
       "  'weight': 1,\n",
       "  'site_index': np.int64(5)},\n",
       " {'site': PeriodicNeighbor: Mg1 (Mg0+) (7.324, 0.0, 3.662) [1.0, 0.0, 0.5],\n",
       "  'image': array([1., 0., 0.]),\n",
       "  'weight': 1,\n",
       "  'site_index': np.int64(7)},\n",
       " {'site': PeriodicNeighbor: Mg1 (Mg0+) (3.662, 3.662, 3.662) [0.5, 0.5, 0.5],\n",
       "  'image': array([0., 0., 0.]),\n",
       "  'weight': 1,\n",
       "  'site_index': np.int64(4)}]"
      ]
     },
     "execution_count": 131,
     "metadata": {},
     "output_type": "execute_result"
    }
   ],
   "source": [
    "neighbors"
   ]
  },
  {
   "cell_type": "code",
   "execution_count": 130,
   "id": "ccc1b4f0-71eb-4481-84ec-22b768f7f8f3",
   "metadata": {},
   "outputs": [
    {
     "data": {
      "text/plain": [
       "PeriodicSite: Mg2 (Mg0+) (5.493, 1.831, 1.831) [0.75, 0.25, 0.25]"
      ]
     },
     "execution_count": 130,
     "metadata": {},
     "output_type": "execute_result"
    }
   ],
   "source": [
    "structure.sites[i]"
   ]
  },
  {
   "cell_type": "code",
   "execution_count": null,
   "id": "3f02b1e4-b291-43ea-b182-6b83ad4f7a39",
   "metadata": {},
   "outputs": [],
   "source": []
  }
 ],
 "metadata": {
  "kernelspec": {
   "display_name": "Python 3 (ipykernel)",
   "language": "python",
   "name": "python3"
  },
  "language_info": {
   "codemirror_mode": {
    "name": "ipython",
    "version": 3
   },
   "file_extension": ".py",
   "mimetype": "text/x-python",
   "name": "python",
   "nbconvert_exporter": "python",
   "pygments_lexer": "ipython3",
   "version": "3.11.11"
  }
 },
 "nbformat": 4,
 "nbformat_minor": 5
}
